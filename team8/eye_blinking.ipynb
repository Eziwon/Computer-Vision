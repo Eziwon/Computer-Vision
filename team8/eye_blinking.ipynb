{
 "cells": [
  {
   "cell_type": "markdown",
   "metadata": {},
   "source": [
    "### 1. 필요한 라이브러리"
   ]
  },
  {
   "cell_type": "code",
   "execution_count": 1,
   "metadata": {},
   "outputs": [],
   "source": [
    "import cv2\n",
    "import dlib\n",
    "from scipy.spatial import distance as dist\n",
    "import numpy as np\n",
    "import time"
   ]
  },
  {
   "cell_type": "markdown",
   "metadata": {},
   "source": [
    "### 2. EAR 함수 정의"
   ]
  },
  {
   "cell_type": "code",
   "execution_count": 2,
   "metadata": {},
   "outputs": [],
   "source": [
    "def eye_aspect_ratio(eye):\n",
    "    # 눈의 수직 거리\n",
    "    A = dist.euclidean(eye[1], eye[5])\n",
    "    B = dist.euclidean(eye[2], eye[4])\n",
    "    # 눈의 수평 거리\n",
    "    C = dist.euclidean(eye[0], eye[3])\n",
    "    # 눈 비율 계산\n",
    "    ear = (A + B) / (2.0 * C)\n",
    "    return ear"
   ]
  },
  {
   "cell_type": "markdown",
   "metadata": {},
   "source": [
    "### 3. 변수 초기화 및 dlib 모델 로드"
   ]
  },
  {
   "cell_type": "code",
   "execution_count": 3,
   "metadata": {},
   "outputs": [],
   "source": [
    "# EAR 임계값과 설정값\n",
    "EYE_AR_THRESH = 0.25\n",
    "WARNING_TIME = 2  # EAR 기준 경고 시간 (초)\n",
    "\n",
    "# 타이머 초기화\n",
    "last_blink_time = None\n",
    "\n",
    "# dlib의 얼굴 검출기와 랜드마크 예측기 초기화\n",
    "detector = dlib.get_frontal_face_detector()\n",
    "predictor = dlib.shape_predictor(\"shape_predictor_68_face_landmarks.dat\")\n",
    "\n",
    "# 눈 좌표 (68개 점 중 눈에 해당하는 부분)\n",
    "(lStart, lEnd) = (42, 48)\n",
    "(rStart, rEnd) = (36, 42)"
   ]
  },
  {
   "cell_type": "markdown",
   "metadata": {},
   "source": [
    "### 4. 비디오 캡처 및 졸음 감지"
   ]
  },
  {
   "cell_type": "code",
   "execution_count": 4,
   "metadata": {},
   "outputs": [
    {
     "name": "stderr",
     "output_type": "stream",
     "text": [
      "2024-12-02 15:46:32.621 python[14873:31695778] WARNING: AVCaptureDeviceTypeExternal is deprecated for Continuity Cameras. Please use AVCaptureDeviceTypeContinuityCamera and add NSCameraUseContinuityCameraDeviceType to your Info.plist.\n"
     ]
    }
   ],
   "source": [
    "# 비디오 스트림 시작\n",
    "cap = cv2.VideoCapture(0)\n",
    "\n",
    "while True:\n",
    "    ret, frame = cap.read()\n",
    "    if not ret:\n",
    "        break\n",
    "    \n",
    "    # 프레임 전처리\n",
    "    gray = cv2.cvtColor(frame, cv2.COLOR_BGR2GRAY)\n",
    "    rects = detector(gray, 0)\n",
    "\n",
    "    # 현재 경고 상태 초기화\n",
    "    drowsy_warning = False\n",
    "\n",
    "    for rect in rects:\n",
    "        # 얼굴 랜드마크 찾기\n",
    "        shape = predictor(gray, rect)\n",
    "        shape = [(shape.part(i).x, shape.part(i).y) for i in range(68)]\n",
    "        \n",
    "        # 왼쪽, 오른쪽 눈의 좌표\n",
    "        leftEye = np.array(shape[lStart:lEnd])\n",
    "        rightEye = np.array(shape[rStart:rEnd])\n",
    "\n",
    "        # EAR 계산\n",
    "        leftEAR = eye_aspect_ratio(leftEye)\n",
    "        rightEAR = eye_aspect_ratio(rightEye)\n",
    "        ear = (leftEAR + rightEAR) / 2.0\n",
    "\n",
    "        # 눈 주위 다각형 그리기\n",
    "        leftEyeHull = cv2.convexHull(leftEye)\n",
    "        rightEyeHull = cv2.convexHull(rightEye)\n",
    "        cv2.drawContours(frame, [leftEyeHull], -1, (0, 255, 0), 1)\n",
    "        cv2.drawContours(frame, [rightEyeHull], -1, (0, 255, 0), 1)\n",
    "\n",
    "        # EAR 값이 임계값보다 낮으면\n",
    "        if ear < EYE_AR_THRESH:\n",
    "            if last_blink_time is None:\n",
    "                last_blink_time = time.time()  # 처음 감긴 시간 기록\n",
    "            elif time.time() - last_blink_time > WARNING_TIME:  # 2초 이상 유지\n",
    "                drowsy_warning = True  # 졸음 경고 활성화\n",
    "        else:\n",
    "            last_blink_time = None  # EAR이 다시 올라가면 초기화\n",
    "\n",
    "        # EAR 값 화면에 표시\n",
    "        cv2.putText(frame, f\"EAR: {ear:.2f}\", (300, 30), cv2.FONT_HERSHEY_SIMPLEX, 0.7, (0, 0, 255), 2)\n",
    "\n",
    "    # 경고 메시지 출력\n",
    "    if drowsy_warning:\n",
    "        cv2.putText(frame, \"DROWSINESS ALERT!\", (100, 100), cv2.FONT_HERSHEY_SIMPLEX, 1.0, (0, 0, 255), 3)\n",
    "\n",
    "    # 결과 출력\n",
    "    cv2.imshow(\"Frame\", frame)\n",
    "\n",
    "    # esc 키를 눌러 종료\n",
    "    if cv2.waitKey(1) & 0xFF == 27:  # 27은 esc 키의 ASCII 코드\n",
    "        break\n",
    "\n",
    "cap.release()\n",
    "cv2.destroyAllWindows()"
   ]
  },
  {
   "cell_type": "code",
   "execution_count": null,
   "metadata": {},
   "outputs": [],
   "source": []
  }
 ],
 "metadata": {
  "kernelspec": {
   "display_name": "deep",
   "language": "python",
   "name": "python3"
  },
  "language_info": {
   "codemirror_mode": {
    "name": "ipython",
    "version": 3
   },
   "file_extension": ".py",
   "mimetype": "text/x-python",
   "name": "python",
   "nbconvert_exporter": "python",
   "pygments_lexer": "ipython3",
   "version": "3.8.15"
  }
 },
 "nbformat": 4,
 "nbformat_minor": 2
}
